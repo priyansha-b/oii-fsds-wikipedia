{
 "cells": [
  {
   "cell_type": "markdown",
   "metadata": {},
   "source": [
    "# Fundamentals of Social Data Science\n",
    "# Week 2 Day 1. Lab. \n"
   ]
  },
  {
   "cell_type": "markdown",
   "metadata": {},
   "source": [
    "Within this directory is a python file `download_wiki_revisions.py`. Run that file on the terminal. It should run with your standard Python rather simply but you might want to run a virtual environment in this directory. You will notice that it does not have a requirements.txt file. Instead it has a `pyproject.toml` file, but that work similarly from pip's perspective (but it can be a bit more advanced as it uses 'setuptools' under the hood). "
   ]
  },
  {
   "cell_type": "markdown",
   "metadata": {},
   "source": [
    "## Step 0. Fork the project \n",
    "\n",
    "Create a fork of the project: https://github.com/berniehogan/oii-fsds-wikipedia \n",
    "This is the course convenor's fork of the TA's project. If you navigate to https://github.com/Rysias/oii-fsds-wikipedia instead you fork that one, which is very similar except this notebook is different and there are a tiny number of comments different in the python file. Clone your forked project into a local folder and then navigate to that folder.\n",
    "\n",
    "## Step 1. Configure your environment\n",
    "- python (or python3) `python -m venv .venv`\n",
    "- `source .venv/bin/activate` \n",
    "- `pip install .`\n",
    "\n",
    "Then run the Python file in the directory with an argument for the name of the page. Open a terminal and type from this folder: \n",
    "\n",
    "`python download_wiki_revisions.py <article_name>`\n",
    "\n",
    "It should download 10 revisions by default. Check your work.\n",
    "\n",
    "## Step 2. Download 1000 more revisions \n",
    "\n",
    "See how you can download 1000 revisions, solely through the command and not by editing the code. Explore the code for the Python script (and the readme file) to help you out. \n",
    "\n",
    "## Step 3. Modify the code to count revisions\n",
    "\n",
    "Add a `count_files(folders=False)` function to the Python script. This should then be called when you download files. Then replace print(\"Done!\") with a message that reports the number of files downloaded. Ensure that it only counts the files and not the folders, unless `folders=True`. \n",
    "\n",
    "## Step 4. Modify the code to skip updates\n",
    "\n",
    "Add some means that allows you to pass --update=False as an argument. Then process that argument somewhere meaningfully in the code so that you will still get the report of how many files are in the folders.\n",
    "\n",
    "## Step 5. Update your GitHub repository \n",
    "\n",
    "Go to the source tab on Visual Studio and commit your changes to the Python file and this file. Update them to your GitHub repo (not mine ;) "
   ]
  },
  {
   "cell_type": "code",
   "execution_count": 8,
   "metadata": {},
   "outputs": [],
   "source": [
    "# You should be able to practice the count_files() method here before adding it to the python script. \n",
    "# Alternatively you can do Step 4 first so that you do not continually download new files and then \n",
    "# work within that script directly. "
   ]
  },
  {
   "cell_type": "code",
   "execution_count": 48,
   "metadata": {},
   "outputs": [],
   "source": [
    "# Code from bernie \n",
    "\n",
    "def count_files(folder):\n",
    "    count = 0\n",
    "    \n",
    "    for item in os.listdir(folder):\n",
    "        item_path = os.path.join(folder, item)\n",
    "        \n",
    "        if os.path.isdir(item_path):\n",
    "            count += count_files(item_path)  # Recursive call for subdirectories\n",
    "        else:\n",
    "            count += 1  # Increment count for files\n",
    "    \n",
    "    return count"
   ]
  },
  {
   "cell_type": "code",
   "execution_count": 51,
   "metadata": {},
   "outputs": [],
   "source": [
    "# My code that did not work\n",
    "\n",
    "def count_files(folder, include_folder_in_count = False):\n",
    "    count = 0\n",
    "\n",
    "    if include_folder_in_count == True:\n",
    "    \n",
    "        for item in os.listdir(folder):\n",
    "            item_path = os.path.join(folder, item)\n",
    "            \n",
    "            if os.path.isdir(item_path):\n",
    "                count += count_files(item_path)  # Recursive call for subdirectories\n",
    "            else:\n",
    "                count += 1  # Increment count for files\n",
    "\n",
    "    else:\n",
    "        for item in os.listdir(folder):\n",
    "            item_path = os.path.join(folder, item)\n",
    "            \n",
    "            if os.path.isdir(item_path):\n",
    "                count += count_files(item_path)  # Recursive call for subdirectories\n",
    "            else:\n",
    "                pass\n",
    "\n",
    "    return count"
   ]
  },
  {
   "cell_type": "code",
   "execution_count": null,
   "metadata": {},
   "outputs": [],
   "source": [
    "# Copilot suggested modification\n",
    "\n",
    "def count_files(folder, include_folder_in_count=False):\n",
    "    count = 0\n",
    "\n",
    "    for item in os.listdir(folder):\n",
    "        item_path = os.path.join(folder, item)\n",
    "        \n",
    "        if os.path.isdir(item_path):\n",
    "            count += count_files(item_path, include_folder_in_count)  # Recursive call for subdirectories\n",
    "            if include_folder_in_count:\n",
    "                count += 1  # Increment count for directories if flag is True\n",
    "        else:\n",
    "            count += 1  # Increment count for files\n",
    "\n",
    "    return count"
   ]
  },
  {
   "cell_type": "code",
   "execution_count": 52,
   "metadata": {},
   "outputs": [
    {
     "data": {
      "text/plain": [
       "'/Users/priyansha/Documents/Oxford/Term1/SDS_in_python/Week02/oii-fsds-wikipedia'"
      ]
     },
     "execution_count": 52,
     "metadata": {},
     "output_type": "execute_result"
    }
   ],
   "source": [
    "import os \n",
    "from pathlib import Path\n",
    "os.getcwd()"
   ]
  },
  {
   "cell_type": "code",
   "execution_count": 53,
   "metadata": {},
   "outputs": [
    {
     "data": {
      "text/plain": [
       "5308"
      ]
     },
     "execution_count": 53,
     "metadata": {},
     "output_type": "execute_result"
    }
   ],
   "source": [
    "count_files(Path(\"data\"))"
   ]
  },
  {
   "cell_type": "code",
   "execution_count": 54,
   "metadata": {},
   "outputs": [
    {
     "data": {
      "text/plain": [
       "5390"
      ]
     },
     "execution_count": 54,
     "metadata": {},
     "output_type": "execute_result"
    }
   ],
   "source": [
    "count_files(Path(\"data\"), include_folder_in_count = True)"
   ]
  }
 ],
 "metadata": {
  "kernelspec": {
   "display_name": ".venv",
   "language": "python",
   "name": "python3"
  },
  "language_info": {
   "codemirror_mode": {
    "name": "ipython",
    "version": 3
   },
   "file_extension": ".py",
   "mimetype": "text/x-python",
   "name": "python",
   "nbconvert_exporter": "python",
   "pygments_lexer": "ipython3",
   "version": "3.9.4"
  }
 },
 "nbformat": 4,
 "nbformat_minor": 2
}
